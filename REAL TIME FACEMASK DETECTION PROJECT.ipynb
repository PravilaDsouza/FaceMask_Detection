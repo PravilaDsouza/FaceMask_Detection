{
 "cells": [
  {
   "cell_type": "code",
   "execution_count": 1,
   "id": "5ba2f39a",
   "metadata": {},
   "outputs": [
    {
     "name": "stdout",
     "output_type": "stream",
     "text": [
      "WARNING:tensorflow:From C:\\Users\\pravi\\AppData\\Roaming\\Python\\Python311\\site-packages\\keras\\src\\losses.py:2976: The name tf.losses.sparse_softmax_cross_entropy is deprecated. Please use tf.compat.v1.losses.sparse_softmax_cross_entropy instead.\n",
      "\n"
     ]
    }
   ],
   "source": [
    "import numpy as np\n",
    "import keras\n",
    "import keras.backend as k\n",
    "from keras.layers import Conv2D,MaxPooling2D,SpatialDropout2D,Flatten,Dropout,Dense\n",
    "from keras.models import Sequential,load_model\n",
    "from keras.optimizers import Adam\n",
    "from keras.preprocessing import image\n",
    "import cv2\n",
    "import datetime"
   ]
  },
  {
   "cell_type": "code",
   "execution_count": 2,
   "id": "5db760c4",
   "metadata": {
    "scrolled": true
   },
   "outputs": [
    {
     "name": "stdout",
     "output_type": "stream",
     "text": [
      "WARNING:tensorflow:From C:\\Users\\pravi\\AppData\\Roaming\\Python\\Python311\\site-packages\\keras\\src\\backend.py:873: The name tf.get_default_graph is deprecated. Please use tf.compat.v1.get_default_graph instead.\n",
      "\n",
      "WARNING:tensorflow:From C:\\Users\\pravi\\AppData\\Roaming\\Python\\Python311\\site-packages\\keras\\src\\layers\\pooling\\max_pooling2d.py:161: The name tf.nn.max_pool is deprecated. Please use tf.nn.max_pool2d instead.\n",
      "\n",
      "WARNING:tensorflow:From C:\\Users\\pravi\\AppData\\Roaming\\Python\\Python311\\site-packages\\keras\\src\\optimizers\\__init__.py:309: The name tf.train.Optimizer is deprecated. Please use tf.compat.v1.train.Optimizer instead.\n",
      "\n"
     ]
    }
   ],
   "source": [
    "# UNCOMMENT THE FOLLOWING CODE TO TRAIN THE CNN FROM SCRATCH\n",
    "\n",
    "# BUILDING MODEL TO CLASSIFY BETWEEN MASK AND NO MASK\n",
    "\n",
    "model=Sequential()\n",
    "model.add(Conv2D(32,(3,3),activation='relu',input_shape=(150,150,3)))\n",
    "model.add(MaxPooling2D() )\n",
    "model.add(Conv2D(32,(3,3),activation='relu'))\n",
    "model.add(MaxPooling2D() )\n",
    "model.add(Conv2D(32,(3,3),activation='relu'))\n",
    "model.add(MaxPooling2D() )\n",
    "model.add(Flatten())\n",
    "model.add(Dense(100,activation='relu'))\n",
    "model.add(Dense(1,activation='sigmoid'))\n",
    "\n",
    "model.compile(optimizer='adam',loss='binary_crossentropy',metrics=['accuracy'])"
   ]
  },
  {
   "cell_type": "markdown",
   "id": "2ca92f81",
   "metadata": {},
   "source": []
  },
  {
   "cell_type": "code",
   "execution_count": 3,
   "id": "43f3b731",
   "metadata": {
    "scrolled": true
   },
   "outputs": [
    {
     "name": "stdout",
     "output_type": "stream",
     "text": [
      "Found 1314 images belonging to 2 classes.\n",
      "Found 194 images belonging to 2 classes.\n"
     ]
    },
    {
     "name": "stderr",
     "output_type": "stream",
     "text": [
      "C:\\Users\\pravi\\AppData\\Local\\Temp\\ipykernel_11280\\881288824.py:22: UserWarning: `Model.fit_generator` is deprecated and will be removed in a future version. Please use `Model.fit`, which supports generators.\n",
      "  model_saved=model.fit_generator(\n"
     ]
    },
    {
     "name": "stdout",
     "output_type": "stream",
     "text": [
      "Epoch 1/10\n",
      "WARNING:tensorflow:From C:\\Users\\pravi\\AppData\\Roaming\\Python\\Python311\\site-packages\\keras\\src\\utils\\tf_utils.py:492: The name tf.ragged.RaggedTensorValue is deprecated. Please use tf.compat.v1.ragged.RaggedTensorValue instead.\n",
      "\n",
      "WARNING:tensorflow:From C:\\Users\\pravi\\AppData\\Roaming\\Python\\Python311\\site-packages\\keras\\src\\engine\\base_layer_utils.py:384: The name tf.executing_eagerly_outside_functions is deprecated. Please use tf.compat.v1.executing_eagerly_outside_functions instead.\n",
      "\n",
      "83/83 [==============================] - 73s 852ms/step - loss: 0.4087 - accuracy: 0.8052 - val_loss: 0.1340 - val_accuracy: 0.9485\n",
      "Epoch 2/10\n",
      "83/83 [==============================] - 47s 569ms/step - loss: 0.1634 - accuracy: 0.9422 - val_loss: 0.2375 - val_accuracy: 0.8969\n",
      "Epoch 3/10\n",
      "83/83 [==============================] - 46s 552ms/step - loss: 0.1716 - accuracy: 0.9429 - val_loss: 0.1169 - val_accuracy: 0.9536\n",
      "Epoch 4/10\n",
      "83/83 [==============================] - 44s 527ms/step - loss: 0.1101 - accuracy: 0.9566 - val_loss: 0.0946 - val_accuracy: 0.9639\n",
      "Epoch 5/10\n",
      "83/83 [==============================] - 44s 533ms/step - loss: 0.0851 - accuracy: 0.9665 - val_loss: 0.0846 - val_accuracy: 0.9639\n",
      "Epoch 6/10\n",
      "83/83 [==============================] - 46s 554ms/step - loss: 0.0980 - accuracy: 0.9619 - val_loss: 0.1256 - val_accuracy: 0.9485\n",
      "Epoch 7/10\n",
      "83/83 [==============================] - 43s 524ms/step - loss: 0.0808 - accuracy: 0.9734 - val_loss: 0.0939 - val_accuracy: 0.9639\n",
      "Epoch 8/10\n",
      "83/83 [==============================] - 43s 513ms/step - loss: 0.0492 - accuracy: 0.9795 - val_loss: 0.0946 - val_accuracy: 0.9588\n",
      "Epoch 9/10\n",
      "83/83 [==============================] - 42s 512ms/step - loss: 0.0754 - accuracy: 0.9696 - val_loss: 0.0936 - val_accuracy: 0.9536\n",
      "Epoch 10/10\n",
      "83/83 [==============================] - 43s 513ms/step - loss: 0.0804 - accuracy: 0.9680 - val_loss: 0.1125 - val_accuracy: 0.9691\n"
     ]
    }
   ],
   "source": [
    "from keras.preprocessing.image import ImageDataGenerator\n",
    "train_datagen = ImageDataGenerator(\n",
    "        rescale=1./255,\n",
    "        shear_range=0.2,\n",
    "        zoom_range=0.2,\n",
    "        horizontal_flip=True)\n",
    "\n",
    "test_datagen = ImageDataGenerator(rescale=1./255)\n",
    "\n",
    "training_set = train_datagen.flow_from_directory(\n",
    "        '../train/',   # put the folder path\n",
    "        target_size=(150,150),\n",
    "        batch_size=16 ,\n",
    "        class_mode='binary')\n",
    "\n",
    "test_set = test_datagen.flow_from_directory(\n",
    "        '../test/',  #put the folder path\n",
    "        target_size=(150,150),\n",
    "        batch_size=16,\n",
    "        class_mode='binary')\n",
    "\n",
    "model_saved=model.fit_generator(\n",
    "        training_set,\n",
    "        epochs=10,\n",
    "        validation_data=test_set,\n",
    "\n",
    "        )"
   ]
  },
  {
   "cell_type": "markdown",
   "id": "36dd5544",
   "metadata": {},
   "source": [
    "### built-in model"
   ]
  },
  {
   "cell_type": "code",
   "execution_count": 4,
   "id": "30b9763a",
   "metadata": {},
   "outputs": [
    {
     "name": "stderr",
     "output_type": "stream",
     "text": [
      "C:\\Users\\pravi\\AppData\\Roaming\\Python\\Python311\\site-packages\\keras\\src\\engine\\training.py:3103: UserWarning: You are saving your model as an HDF5 file via `model.save()`. This file format is considered legacy. We recommend using instead the native Keras format, e.g. `model.save('my_model.keras')`.\n",
      "  saving_api.save_model(\n"
     ]
    }
   ],
   "source": [
    "model.save('mymodel.h5',model_saved)   #upload this model inside jupyter notbook\n",
    "\n",
    "#To test for individual images\n",
    "\n",
    "mymodel=load_model('mymodel.h5')"
   ]
  },
  {
   "cell_type": "code",
   "execution_count": null,
   "id": "219d44ad",
   "metadata": {},
   "outputs": [],
   "source": []
  },
  {
   "cell_type": "code",
   "execution_count": null,
   "id": "c0b8c011",
   "metadata": {},
   "outputs": [],
   "source": []
  },
  {
   "cell_type": "markdown",
   "id": "f1b74334",
   "metadata": {},
   "source": [
    "### model accuracy"
   ]
  },
  {
   "cell_type": "code",
   "execution_count": 5,
   "id": "840d0e8a",
   "metadata": {},
   "outputs": [
    {
     "name": "stdout",
     "output_type": "stream",
     "text": [
      "Training Accuracy: 0.9680365324020386\n",
      "Validation Accuracy: 0.969072163105011\n"
     ]
    }
   ],
   "source": [
    "# Print training and validation accuracy\n",
    "training_accuracy = model_saved.history['accuracy']\n",
    "validation_accuracy = model_saved.history['val_accuracy']\n",
    "\n",
    "print(\"Training Accuracy:\", training_accuracy[-1])\n",
    "print(\"Validation Accuracy:\", validation_accuracy[-1])\n"
   ]
  },
  {
   "cell_type": "code",
   "execution_count": 12,
   "id": "2b1080ef",
   "metadata": {},
   "outputs": [
    {
     "name": "stdout",
     "output_type": "stream",
     "text": [
      "1/1 [==============================] - 0s 48ms/step\n"
     ]
    },
    {
     "data": {
      "text/plain": [
       "0.0"
      ]
     },
     "execution_count": 12,
     "metadata": {},
     "output_type": "execute_result"
    }
   ],
   "source": [
    "test_image=image.load_img(r\"..test\\without_mask\\10.jpg\",target_size=(150,150,3))  #copy the path of test folder any one image\n",
    "test_image=image.load_img(r\"..test\\with_mask\\1-with-mask.jpg\",target_size=(150,150,3))  #same as above \n",
    "test_image\n",
    "test_image=image.img_to_array(test_image)\n",
    "test_image=np.expand_dims(test_image,axis=0)\n",
    "mymodel.predict(test_image)[0][0]"
   ]
  },
  {
   "cell_type": "code",
   "execution_count": 13,
   "id": "533e1be3",
   "metadata": {},
   "outputs": [
    {
     "name": "stdout",
     "output_type": "stream",
     "text": [
      "1/1 [==============================] - 0s 62ms/step\n",
      "1/1 [==============================] - 0s 19ms/step\n",
      "1/1 [==============================] - 0s 19ms/step\n",
      "1/1 [==============================] - 0s 19ms/step\n",
      "1/1 [==============================] - 0s 16ms/step\n",
      "1/1 [==============================] - 0s 18ms/step\n",
      "1/1 [==============================] - 0s 20ms/step\n",
      "1/1 [==============================] - 0s 22ms/step\n",
      "1/1 [==============================] - 0s 18ms/step\n",
      "1/1 [==============================] - 0s 19ms/step\n",
      "1/1 [==============================] - 0s 19ms/step\n",
      "1/1 [==============================] - 0s 20ms/step\n",
      "1/1 [==============================] - 0s 23ms/step\n",
      "1/1 [==============================] - 0s 18ms/step\n",
      "1/1 [==============================] - 0s 20ms/step\n",
      "1/1 [==============================] - 0s 19ms/step\n",
      "1/1 [==============================] - 0s 22ms/step\n",
      "1/1 [==============================] - 0s 24ms/step\n",
      "1/1 [==============================] - 0s 18ms/step\n",
      "1/1 [==============================] - 0s 18ms/step\n",
      "1/1 [==============================] - 0s 20ms/step\n",
      "1/1 [==============================] - 0s 20ms/step\n",
      "1/1 [==============================] - 0s 21ms/step\n",
      "1/1 [==============================] - 0s 19ms/step\n",
      "1/1 [==============================] - 0s 21ms/step\n",
      "1/1 [==============================] - 0s 20ms/step\n",
      "1/1 [==============================] - 0s 18ms/step\n",
      "1/1 [==============================] - 0s 18ms/step\n",
      "1/1 [==============================] - 0s 18ms/step\n",
      "1/1 [==============================] - 0s 18ms/step\n",
      "1/1 [==============================] - 0s 19ms/step\n",
      "1/1 [==============================] - 0s 20ms/step\n",
      "1/1 [==============================] - 0s 20ms/step\n",
      "1/1 [==============================] - 0s 21ms/step\n",
      "1/1 [==============================] - 0s 18ms/step\n",
      "1/1 [==============================] - 0s 22ms/step\n",
      "1/1 [==============================] - 0s 21ms/step\n"
     ]
    }
   ],
   "source": [
    "# IMPLEMENTING LIVE DETECTION OF FACE MASK\n",
    "\n",
    "mymodel=load_model('mymodel.h5')\n",
    "\n",
    "cap=cv2.VideoCapture(0)\n",
    "face_cascade=cv2.CascadeClassifier('haarcascade_frontalface_default.xml') #upload this file in jupyter notebook\n",
    "\n",
    "\n",
    "while cap.isOpened():\n",
    "    _,img=cap.read()\n",
    "    face=face_cascade.detectMultiScale(img,scaleFactor=1.1,minNeighbors=4)\n",
    "    for(x,y,w,h) in face:\n",
    "        face_img = img[y:y+h, x:x+w]\n",
    "        cv2.imwrite('temp.jpg',face_img)\n",
    "        test_image=image.load_img('temp.jpg',target_size=(150,150,3))\n",
    "        test_image=image.img_to_array(test_image)\n",
    "        test_image=np.expand_dims(test_image,axis=0)\n",
    "        pred=mymodel.predict(test_image)[0][0]\n",
    "        if pred==1:\n",
    "            cv2.rectangle(img,(x,y),(x+w,y+h),(0,0,255),3)\n",
    "            cv2.putText(img,'NO MASK',((x+w)//2,y+h+20),cv2.FONT_HERSHEY_SIMPLEX,1,(0,0,255),3)\n",
    "        else:\n",
    "            cv2.rectangle(img,(x,y),(x+w,y+h),(0,255,0),3)\n",
    "            cv2.putText(img,'MASK',((x+w)//2,y+h+20),cv2.FONT_HERSHEY_SIMPLEX,1,(0,255,0),3)\n",
    "        datet=str(datetime.datetime.now())\n",
    "        cv2.putText(img,datet,(400,450),cv2.FONT_HERSHEY_SIMPLEX,0.5,(255,255,255),1)\n",
    "          \n",
    "    cv2.imshow('img',img)\n",
    "    \n",
    "    if cv2.waitKey(1)==ord('q'):   #oncce your webcame is on, to close enter 'q'\n",
    "        break\n",
    "    \n",
    "cap.release()\n",
    "cv2.destroyAllWindows()\n"
   ]
  },
  {
   "cell_type": "code",
   "execution_count": null,
   "id": "75607868",
   "metadata": {},
   "outputs": [],
   "source": []
  }
 ],
 "metadata": {
  "kernelspec": {
   "display_name": "Python 3 (ipykernel)",
   "language": "python",
   "name": "python3"
  },
  "language_info": {
   "codemirror_mode": {
    "name": "ipython",
    "version": 3
   },
   "file_extension": ".py",
   "mimetype": "text/x-python",
   "name": "python",
   "nbconvert_exporter": "python",
   "pygments_lexer": "ipython3",
   "version": "3.11.4"
  }
 },
 "nbformat": 4,
 "nbformat_minor": 5
}
